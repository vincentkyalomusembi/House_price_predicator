{
 "cells": [
  {
   "cell_type": "markdown",
   "id": "ea14a747",
   "metadata": {},
   "source": [
    "# Import the required packages"
   ]
  },
  {
   "cell_type": "code",
   "execution_count": 1,
   "id": "1b2c95d6",
   "metadata": {},
   "outputs": [],
   "source": [
    "import numpy as np\n",
    "import pandas as pd"
   ]
  },
  {
   "cell_type": "markdown",
   "id": "70c9926e",
   "metadata": {},
   "source": [
    "# Generate random house price and size and places them in dataset"
   ]
  },
  {
   "cell_type": "code",
   "execution_count": 2,
   "id": "dbdf5bfc",
   "metadata": {},
   "outputs": [],
   "source": [
    "def generate_house_data(n_samples=100):\n",
    "    np.random.seed(50)\n",
    "    size = np.random.normal(1400, 50, n_samples)\n",
    "    price = size * 50 + np.random.normal(0, 50, n_samples)\n",
    "    return pd.DataFrame({'size': size, 'price':price})"
   ]
  },
  {
   "cell_type": "code",
   "execution_count": 3,
   "id": "b9303cfa",
   "metadata": {},
   "outputs": [
    {
     "data": {
      "text/html": [
       "<div>\n",
       "<style scoped>\n",
       "    .dataframe tbody tr th:only-of-type {\n",
       "        vertical-align: middle;\n",
       "    }\n",
       "\n",
       "    .dataframe tbody tr th {\n",
       "        vertical-align: top;\n",
       "    }\n",
       "\n",
       "    .dataframe thead th {\n",
       "        text-align: right;\n",
       "    }\n",
       "</style>\n",
       "<table border=\"1\" class=\"dataframe\">\n",
       "  <thead>\n",
       "    <tr style=\"text-align: right;\">\n",
       "      <th></th>\n",
       "      <th>size</th>\n",
       "      <th>price</th>\n",
       "    </tr>\n",
       "  </thead>\n",
       "  <tbody>\n",
       "    <tr>\n",
       "      <th>0</th>\n",
       "      <td>1321.982395</td>\n",
       "      <td>66086.212282</td>\n",
       "    </tr>\n",
       "    <tr>\n",
       "      <th>1</th>\n",
       "      <td>1398.451120</td>\n",
       "      <td>69924.913799</td>\n",
       "    </tr>\n",
       "    <tr>\n",
       "      <th>2</th>\n",
       "      <td>1368.953579</td>\n",
       "      <td>68426.325683</td>\n",
       "    </tr>\n",
       "    <tr>\n",
       "      <th>3</th>\n",
       "      <td>1326.770976</td>\n",
       "      <td>66332.487139</td>\n",
       "    </tr>\n",
       "    <tr>\n",
       "      <th>4</th>\n",
       "      <td>1470.597306</td>\n",
       "      <td>73521.436577</td>\n",
       "    </tr>\n",
       "    <tr>\n",
       "      <th>...</th>\n",
       "      <td>...</td>\n",
       "      <td>...</td>\n",
       "    </tr>\n",
       "    <tr>\n",
       "      <th>95</th>\n",
       "      <td>1334.661329</td>\n",
       "      <td>66821.650808</td>\n",
       "    </tr>\n",
       "    <tr>\n",
       "      <th>96</th>\n",
       "      <td>1355.511585</td>\n",
       "      <td>67727.300704</td>\n",
       "    </tr>\n",
       "    <tr>\n",
       "      <th>97</th>\n",
       "      <td>1400.263387</td>\n",
       "      <td>70081.687066</td>\n",
       "    </tr>\n",
       "    <tr>\n",
       "      <th>98</th>\n",
       "      <td>1443.321244</td>\n",
       "      <td>72137.698251</td>\n",
       "    </tr>\n",
       "    <tr>\n",
       "      <th>99</th>\n",
       "      <td>1373.223221</td>\n",
       "      <td>68607.703128</td>\n",
       "    </tr>\n",
       "  </tbody>\n",
       "</table>\n",
       "<p>100 rows × 2 columns</p>\n",
       "</div>"
      ],
      "text/plain": [
       "           size         price\n",
       "0   1321.982395  66086.212282\n",
       "1   1398.451120  69924.913799\n",
       "2   1368.953579  68426.325683\n",
       "3   1326.770976  66332.487139\n",
       "4   1470.597306  73521.436577\n",
       "..          ...           ...\n",
       "95  1334.661329  66821.650808\n",
       "96  1355.511585  67727.300704\n",
       "97  1400.263387  70081.687066\n",
       "98  1443.321244  72137.698251\n",
       "99  1373.223221  68607.703128\n",
       "\n",
       "[100 rows x 2 columns]"
      ]
     },
     "execution_count": 3,
     "metadata": {},
     "output_type": "execute_result"
    }
   ],
   "source": [
    "df = generate_house_data(n_samples=100)\n",
    "df"
   ]
  },
  {
   "cell_type": "markdown",
   "id": "93cd1f99",
   "metadata": {},
   "source": [
    "# Import linear regresion model to train the dataset"
   ]
  },
  {
   "cell_type": "code",
   "execution_count": 4,
   "id": "757b924a",
   "metadata": {},
   "outputs": [],
   "source": [
    "from sklearn.model_selection import train_test_split\n",
    "from sklearn.metrics import mean_squared_error\n",
    "from sklearn.linear_model import LinearRegression"
   ]
  },
  {
   "cell_type": "code",
   "execution_count": 5,
   "id": "70d5a9a6",
   "metadata": {},
   "outputs": [],
   "source": [
    "def train_model():\n",
    "    df = generate_house_data(n_samples=100)\n",
    "    X = df[['size']]  # Need 2D array for sklearn\n",
    "    y = df['price']\n",
    "    \n",
    "    X_train, X_test, y_train, y_test = train_test_split(X, y, test_size=0.2, random_state=42)\n",
    "\n",
    "    model = LinearRegression()\n",
    "    model.fit(X_train, y_train)\n",
    "    \n",
    "    # Make predictions on test set\n",
    "    y_pred = model.predict(X_test)\n",
    "    \n",
    "    # Calculate metrics\n",
    "    mse = mean_squared_error(y_test, y_pred)\n",
    "    rmse = np.sqrt(mse)\n",
    "    \n",
    "    print(f\"Model Performance:\")\n",
    "    print(f\"Mean Squared Error: {mse:.2f}\")\n",
    "    print(f\"Root Mean Squared Error: {rmse:.2f}\")\n",
    "    print(f\"Model Coefficient (price per sq ft): ${model.coef_[0]:.2f}\")\n",
    "    print(f\"Model Intercept: ${model.intercept_:.2f}\")\n",
    "\n",
    "    return model, X_test, y_test, y_pred"
   ]
  },
  {
   "cell_type": "code",
   "execution_count": 6,
   "id": "034a3660",
   "metadata": {},
   "outputs": [
    {
     "name": "stdout",
     "output_type": "stream",
     "text": [
      "Model Performance:\n",
      "Mean Squared Error: 2851.43\n",
      "Root Mean Squared Error: 53.40\n",
      "Model Coefficient (price per sq ft): $49.81\n",
      "Model Intercept: $256.85\n"
     ]
    }
   ],
   "source": [
    "model, X_test, y_test, y_pred = train_model()"
   ]
  },
  {
   "cell_type": "code",
   "execution_count": 7,
   "id": "a34dac21",
   "metadata": {},
   "outputs": [
    {
     "data": {
      "image/png": "[encoded data removed]",
      "text/plain": [
       "<Figure size 1000x600 with 1 Axes>"
      ]
     },
     "metadata": {},
     "output_type": "display_data"
    },
    {
     "name": "stdout",
     "output_type": "stream",
     "text": [
      "\n",
      "For a house of 1500 sq ft:\n",
      "Predicted price: $74,971.46\n"
     ]
    },
    {
     "name": "stderr",
     "output_type": "stream",
     "text": [
      "/home/vin/House-price-predicator/venv/lib/python3.11/site-packages/sklearn/utils/validation.py:2749: UserWarning: X does not have valid feature names, but LinearRegression was fitted with feature names\n",
      "  warnings.warn(\n"
     ]
    }
   ],
   "source": [
    "# Visualize the results\n",
    "import matplotlib.pyplot as plt\n",
    "\n",
    "plt.figure(figsize=(10, 6))\n",
    "plt.scatter(X_test, y_test, color='blue', alpha=0.6, label='Actual prices')\n",
    "plt.scatter(X_test, y_pred, color='red', alpha=0.6, label='Predicted prices')\n",
    "plt.xlabel('House Size (sq ft)')\n",
    "plt.ylabel('Price ($)')\n",
    "plt.title('Actual vs Predicted House Prices')\n",
    "plt.legend()\n",
    "plt.grid(True, alpha=0.3)\n",
    "plt.show()\n",
    "\n",
    "# Test the model with a specific house size\n",
    "test_size = 1500\n",
    "predicted_price = model.predict([[test_size]])\n",
    "print(f\"\\nFor a house of {test_size} sq ft:\")\n",
    "print(f\"Predicted price: ${predicted_price[0]:,.2f}\")"
   ]
  }
 ],
 "metadata": {
  "kernelspec": {
   "display_name": "venv",
   "language": "python",
   "name": "python3"
  },
  "language_info": {
   "codemirror_mode": {
    "name": "ipython",
    "version": 3
   },
   "file_extension": ".py",
   "mimetype": "text/x-python",
   "name": "python",
   "nbconvert_exporter": "python",
   "pygments_lexer": "ipython3",
   "version": "3.11.2"
  }
 },
 "nbformat": 4,
 "nbformat_minor": 5
}
