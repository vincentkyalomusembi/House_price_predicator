{
 "cells": [
  {
   "cell_type": "markdown",
   "id": "0c330a29",
   "metadata": {},
   "source": [
    "# Import libraries\n"
   ]
  },
  {
   "cell_type": "code",
   "execution_count": null,
   "id": "d5a77d62",
   "metadata": {},
   "outputs": [],
   "source": [
    "import pandas as pd\n",
    "import numpy as np\n",
    "import matplotlib as  plt\n",
    "import seaborn as sns\n",
    "import pickle"
   ]
  },
  {
   "cell_type": "markdown",
   "id": "a9e7379f",
   "metadata": {},
   "source": [
    "# Generate random vaues of the size , price and bedroom"
   ]
  },
  {
   "cell_type": "code",
   "execution_count": 24,
   "id": "727d0f51",
   "metadata": {},
   "outputs": [],
   "source": [
    "def generate_house_data(n_samples=100):\n",
    "    np.random.seed(50)\n",
    "    size = np.random.normal(1400, 50, n_samples)\n",
    "    price = size * 50 + np.random.normal(0, 50, n_samples)\n",
    "    bedroom = np.random.normal(1, 10, n_samples)\n",
    "    return pd.DataFrame({\"size\":size, \"price\":price, \"bedroom\":bedroom})\n"
   ]
  },
  {
   "cell_type": "code",
   "execution_count": 13,
   "id": "9e4fbd1a",
   "metadata": {},
   "outputs": [
    {
     "data": {
      "text/html": [
       "<div>\n",
       "<style scoped>\n",
       "    .dataframe tbody tr th:only-of-type {\n",
       "        vertical-align: middle;\n",
       "    }\n",
       "\n",
       "    .dataframe tbody tr th {\n",
       "        vertical-align: top;\n",
       "    }\n",
       "\n",
       "    .dataframe thead th {\n",
       "        text-align: right;\n",
       "    }\n",
       "</style>\n",
       "<table border=\"1\" class=\"dataframe\">\n",
       "  <thead>\n",
       "    <tr style=\"text-align: right;\">\n",
       "      <th></th>\n",
       "      <th>size</th>\n",
       "      <th>price</th>\n",
       "      <th>bedroom</th>\n",
       "    </tr>\n",
       "  </thead>\n",
       "  <tbody>\n",
       "    <tr>\n",
       "      <th>0</th>\n",
       "      <td>1321.982395</td>\n",
       "      <td>66086.212282</td>\n",
       "      <td>6.650218</td>\n",
       "    </tr>\n",
       "    <tr>\n",
       "      <th>1</th>\n",
       "      <td>1398.451120</td>\n",
       "      <td>69924.913799</td>\n",
       "      <td>1.572648</td>\n",
       "    </tr>\n",
       "    <tr>\n",
       "      <th>2</th>\n",
       "      <td>1368.953579</td>\n",
       "      <td>68426.325683</td>\n",
       "      <td>3.415748</td>\n",
       "    </tr>\n",
       "    <tr>\n",
       "      <th>3</th>\n",
       "      <td>1326.770976</td>\n",
       "      <td>66332.487139</td>\n",
       "      <td>5.861726</td>\n",
       "    </tr>\n",
       "    <tr>\n",
       "      <th>4</th>\n",
       "      <td>1470.597306</td>\n",
       "      <td>73521.436577</td>\n",
       "      <td>-2.634334</td>\n",
       "    </tr>\n",
       "    <tr>\n",
       "      <th>...</th>\n",
       "      <td>...</td>\n",
       "      <td>...</td>\n",
       "      <td>...</td>\n",
       "    </tr>\n",
       "    <tr>\n",
       "      <th>95</th>\n",
       "      <td>1334.661329</td>\n",
       "      <td>66821.650808</td>\n",
       "      <td>5.411463</td>\n",
       "    </tr>\n",
       "    <tr>\n",
       "      <th>96</th>\n",
       "      <td>1355.511585</td>\n",
       "      <td>67727.300704</td>\n",
       "      <td>-9.834500</td>\n",
       "    </tr>\n",
       "    <tr>\n",
       "      <th>97</th>\n",
       "      <td>1400.263387</td>\n",
       "      <td>70081.687066</td>\n",
       "      <td>-5.209275</td>\n",
       "    </tr>\n",
       "    <tr>\n",
       "      <th>98</th>\n",
       "      <td>1443.321244</td>\n",
       "      <td>72137.698251</td>\n",
       "      <td>3.956314</td>\n",
       "    </tr>\n",
       "    <tr>\n",
       "      <th>99</th>\n",
       "      <td>1373.223221</td>\n",
       "      <td>68607.703128</td>\n",
       "      <td>-0.250351</td>\n",
       "    </tr>\n",
       "  </tbody>\n",
       "</table>\n",
       "<p>100 rows × 3 columns</p>\n",
       "</div>"
      ],
      "text/plain": [
       "           size         price   bedroom\n",
       "0   1321.982395  66086.212282  6.650218\n",
       "1   1398.451120  69924.913799  1.572648\n",
       "2   1368.953579  68426.325683  3.415748\n",
       "3   1326.770976  66332.487139  5.861726\n",
       "4   1470.597306  73521.436577 -2.634334\n",
       "..          ...           ...       ...\n",
       "95  1334.661329  66821.650808  5.411463\n",
       "96  1355.511585  67727.300704 -9.834500\n",
       "97  1400.263387  70081.687066 -5.209275\n",
       "98  1443.321244  72137.698251  3.956314\n",
       "99  1373.223221  68607.703128 -0.250351\n",
       "\n",
       "[100 rows x 3 columns]"
      ]
     },
     "execution_count": 13,
     "metadata": {},
     "output_type": "execute_result"
    }
   ],
   "source": [
    "df = generate_house_data(n_samples=100)\n",
    "df"
   ]
  },
  {
   "cell_type": "code",
   "execution_count": 14,
   "id": "533b1cc9",
   "metadata": {},
   "outputs": [
    {
     "name": "stdout",
     "output_type": "stream",
     "text": [
      "<class 'pandas.core.frame.DataFrame'>\n",
      "RangeIndex: 100 entries, 0 to 99\n",
      "Data columns (total 3 columns):\n",
      " #   Column   Non-Null Count  Dtype  \n",
      "---  ------   --------------  -----  \n",
      " 0   size     100 non-null    float64\n",
      " 1   price    100 non-null    float64\n",
      " 2   bedroom  100 non-null    float64\n",
      "dtypes: float64(3)\n",
      "memory usage: 2.5 KB\n"
     ]
    }
   ],
   "source": [
    "df.info()"
   ]
  },
  {
   "cell_type": "markdown",
   "id": "b17da4c4",
   "metadata": {},
   "source": [
    "# Train the model using linear regerestion"
   ]
  },
  {
   "cell_type": "code",
   "execution_count": 15,
   "id": "c9d1d50d",
   "metadata": {},
   "outputs": [],
   "source": [
    "from sklearn.model_selection import train_test_split\n",
    "from sklearn.metrics import mean_squared_error\n",
    "from sklearn.linear_model import LinearRegression"
   ]
  },
  {
   "cell_type": "code",
   "execution_count": 20,
   "id": "baa41002",
   "metadata": {},
   "outputs": [],
   "source": [
    "def train_model():\n",
    "    df = generate_house_data(n_samples=100)\n",
    "    x = df[[\"size\", \"bedroom\"]] # Need 2D array for sklearn\n",
    "    y = df[\"price\"]\n",
    "\n",
    "    x_train, x_test, y_train, y_test = train_test_split(x, y, test_size=0.2, random_state=42)\n",
    "    #Train model\n",
    "    model = LinearRegression()\n",
    "    model.fit(x_train, y_train)\n",
    "\n",
    "    #Make prediction on test set\n",
    "    y_pred = model.predict(x_test)\n",
    "\n",
    "    # Calculate metrics\n",
    "    mse = mean_squared_error(y_test, y_pred)\n",
    "    rmse = np.sqrt(mse)\n",
    "\n",
    "    print(f\"Model Performance:\")\n",
    "    print(f\"Mean Squared Error: {mse:.2f}\")\n",
    "    print(f\"Root Mean Squared Error: {rmse:.2f}\")\n",
    "    print(f\"Model Coefficient (price per sq ft): ${model.coef_[0]:.2f}\")\n",
    "    print(f\"Model Intercept: ${model.intercept_:.2f}\")\n",
    "\n",
    "    return model, x_test, y_test, y_pred"
   ]
  },
  {
   "cell_type": "code",
   "execution_count": 21,
   "id": "2bf5f16e",
   "metadata": {},
   "outputs": [
    {
     "name": "stdout",
     "output_type": "stream",
     "text": [
      "Model Performance:\n",
      "Mean Squared Error: 2807.75\n",
      "Root Mean Squared Error: 52.99\n",
      "Model Coefficient (price per sq ft): $49.81\n",
      "Model Intercept: $255.78\n"
     ]
    }
   ],
   "source": [
    "model, x_test, y_test, y_pred = train_model()"
   ]
  },
  {
   "cell_type": "code",
   "execution_count": 22,
   "id": "7a3f2f89",
   "metadata": {},
   "outputs": [],
   "source": [
    "# Save model to file\n",
    "with open(\"house_price_model.pkl\", \"wb\") as f:\n",
    "    pickle.dump(model, f)"
   ]
  }
 ],
 "metadata": {
  "kernelspec": {
   "display_name": "venv",
   "language": "python",
   "name": "python3"
  },
  "language_info": {
   "codemirror_mode": {
    "name": "ipython",
    "version": 3
   },
   "file_extension": ".py",
   "mimetype": "text/x-python",
   "name": "python",
   "nbconvert_exporter": "python",
   "pygments_lexer": "ipython3",
   "version": "3.11.2"
  }
 },
 "nbformat": 4,
 "nbformat_minor": 5
}
